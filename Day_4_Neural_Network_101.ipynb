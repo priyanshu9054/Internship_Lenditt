{
 "cells": [
  {
   "cell_type": "markdown",
   "id": "5ddf8cb5-d3da-4ece-b9b6-2b275e5d68ee",
   "metadata": {},
   "source": [
    "# ANN"
   ]
  },
  {
   "cell_type": "markdown",
   "id": "451ee4a5-062e-4e98-a8fd-8f3952349369",
   "metadata": {},
   "source": [
    "#### Perceptron Convergencw Theorem"
   ]
  },
  {
   "cell_type": "code",
   "execution_count": 1,
   "id": "96805727-f324-4d97-8a30-0cddf6af463a",
   "metadata": {},
   "outputs": [],
   "source": [
    "import numpy as np\n",
    "from sklearn.datasets import load_iris\n",
    "from sklearn.linear_model import Perceptron"
   ]
  },
  {
   "cell_type": "code",
   "execution_count": 6,
   "id": "eec2cea3-cb22-4f83-b998-072ffcd99652",
   "metadata": {},
   "outputs": [],
   "source": [
    "iris=load_iris(as_frame=True)\n",
    "X=iris.data[['petal length (cm)', 'petal width (cm)']].values\n",
    "y=(iris.target == 0)"
   ]
  },
  {
   "cell_type": "code",
   "execution_count": 8,
   "id": "add25f78-cd41-416d-992f-478c89a27e19",
   "metadata": {},
   "outputs": [
    {
     "data": {
      "text/html": [
       "<style>#sk-container-id-1 {color: black;background-color: white;}#sk-container-id-1 pre{padding: 0;}#sk-container-id-1 div.sk-toggleable {background-color: white;}#sk-container-id-1 label.sk-toggleable__label {cursor: pointer;display: block;width: 100%;margin-bottom: 0;padding: 0.3em;box-sizing: border-box;text-align: center;}#sk-container-id-1 label.sk-toggleable__label-arrow:before {content: \"▸\";float: left;margin-right: 0.25em;color: #696969;}#sk-container-id-1 label.sk-toggleable__label-arrow:hover:before {color: black;}#sk-container-id-1 div.sk-estimator:hover label.sk-toggleable__label-arrow:before {color: black;}#sk-container-id-1 div.sk-toggleable__content {max-height: 0;max-width: 0;overflow: hidden;text-align: left;background-color: #f0f8ff;}#sk-container-id-1 div.sk-toggleable__content pre {margin: 0.2em;color: black;border-radius: 0.25em;background-color: #f0f8ff;}#sk-container-id-1 input.sk-toggleable__control:checked~div.sk-toggleable__content {max-height: 200px;max-width: 100%;overflow: auto;}#sk-container-id-1 input.sk-toggleable__control:checked~label.sk-toggleable__label-arrow:before {content: \"▾\";}#sk-container-id-1 div.sk-estimator input.sk-toggleable__control:checked~label.sk-toggleable__label {background-color: #d4ebff;}#sk-container-id-1 div.sk-label input.sk-toggleable__control:checked~label.sk-toggleable__label {background-color: #d4ebff;}#sk-container-id-1 input.sk-hidden--visually {border: 0;clip: rect(1px 1px 1px 1px);clip: rect(1px, 1px, 1px, 1px);height: 1px;margin: -1px;overflow: hidden;padding: 0;position: absolute;width: 1px;}#sk-container-id-1 div.sk-estimator {font-family: monospace;background-color: #f0f8ff;border: 1px dotted black;border-radius: 0.25em;box-sizing: border-box;margin-bottom: 0.5em;}#sk-container-id-1 div.sk-estimator:hover {background-color: #d4ebff;}#sk-container-id-1 div.sk-parallel-item::after {content: \"\";width: 100%;border-bottom: 1px solid gray;flex-grow: 1;}#sk-container-id-1 div.sk-label:hover label.sk-toggleable__label {background-color: #d4ebff;}#sk-container-id-1 div.sk-serial::before {content: \"\";position: absolute;border-left: 1px solid gray;box-sizing: border-box;top: 0;bottom: 0;left: 50%;z-index: 0;}#sk-container-id-1 div.sk-serial {display: flex;flex-direction: column;align-items: center;background-color: white;padding-right: 0.2em;padding-left: 0.2em;position: relative;}#sk-container-id-1 div.sk-item {position: relative;z-index: 1;}#sk-container-id-1 div.sk-parallel {display: flex;align-items: stretch;justify-content: center;background-color: white;position: relative;}#sk-container-id-1 div.sk-item::before, #sk-container-id-1 div.sk-parallel-item::before {content: \"\";position: absolute;border-left: 1px solid gray;box-sizing: border-box;top: 0;bottom: 0;left: 50%;z-index: -1;}#sk-container-id-1 div.sk-parallel-item {display: flex;flex-direction: column;z-index: 1;position: relative;background-color: white;}#sk-container-id-1 div.sk-parallel-item:first-child::after {align-self: flex-end;width: 50%;}#sk-container-id-1 div.sk-parallel-item:last-child::after {align-self: flex-start;width: 50%;}#sk-container-id-1 div.sk-parallel-item:only-child::after {width: 0;}#sk-container-id-1 div.sk-dashed-wrapped {border: 1px dashed gray;margin: 0 0.4em 0.5em 0.4em;box-sizing: border-box;padding-bottom: 0.4em;background-color: white;}#sk-container-id-1 div.sk-label label {font-family: monospace;font-weight: bold;display: inline-block;line-height: 1.2em;}#sk-container-id-1 div.sk-label-container {text-align: center;}#sk-container-id-1 div.sk-container {/* jupyter's `normalize.less` sets `[hidden] { display: none; }` but bootstrap.min.css set `[hidden] { display: none !important; }` so we also need the `!important` here to be able to override the default hidden behavior on the sphinx rendered scikit-learn.org. See: https://github.com/scikit-learn/scikit-learn/issues/21755 */display: inline-block !important;position: relative;}#sk-container-id-1 div.sk-text-repr-fallback {display: none;}</style><div id=\"sk-container-id-1\" class=\"sk-top-container\"><div class=\"sk-text-repr-fallback\"><pre>Perceptron(random_state=42)</pre><b>In a Jupyter environment, please rerun this cell to show the HTML representation or trust the notebook. <br />On GitHub, the HTML representation is unable to render, please try loading this page with nbviewer.org.</b></div><div class=\"sk-container\" hidden><div class=\"sk-item\"><div class=\"sk-estimator sk-toggleable\"><input class=\"sk-toggleable__control sk-hidden--visually\" id=\"sk-estimator-id-1\" type=\"checkbox\" checked><label for=\"sk-estimator-id-1\" class=\"sk-toggleable__label sk-toggleable__label-arrow\">Perceptron</label><div class=\"sk-toggleable__content\"><pre>Perceptron(random_state=42)</pre></div></div></div></div></div>"
      ],
      "text/plain": [
       "Perceptron(random_state=42)"
      ]
     },
     "execution_count": 8,
     "metadata": {},
     "output_type": "execute_result"
    }
   ],
   "source": [
    "per_clf=Perceptron(random_state=42)\n",
    "per_clf.fit(X,y)"
   ]
  },
  {
   "cell_type": "code",
   "execution_count": 12,
   "id": "bb90d5bd-abde-4ec6-8ab7-d8cbc286fc19",
   "metadata": {},
   "outputs": [
    {
     "data": {
      "text/plain": [
       "array([ True, False])"
      ]
     },
     "execution_count": 12,
     "metadata": {},
     "output_type": "execute_result"
    }
   ],
   "source": [
    "X_new = [[2,0.5],[3,1]]\n",
    "y_pred=per_clf.predict(X_new)\n",
    "y_pred"
   ]
  },
  {
   "cell_type": "markdown",
   "id": "267dfc27-17d0-4bb3-a52a-ef1350d05f22",
   "metadata": {},
   "source": [
    "#### Classification using MLPs"
   ]
  },
  {
   "cell_type": "code",
   "execution_count": 13,
   "id": "c35a87d7-201f-4ae5-87ca-eec458759664",
   "metadata": {},
   "outputs": [],
   "source": [
    "from sklearn.datasets import fetch_california_housing\n",
    "from sklearn.metrics import mean_squared_error\n",
    "from sklearn.model_selection import train_test_split\n",
    "from sklearn.neural_network import MLPRegressor\n",
    "from sklearn.pipeline import make_pipeline\n",
    "from sklearn.preprocessing import StandardScaler"
   ]
  },
  {
   "cell_type": "code",
   "execution_count": 16,
   "id": "a4f35549-f44e-4c6f-b238-03f3e446b8c8",
   "metadata": {},
   "outputs": [
    {
     "data": {
      "text/plain": [
       "0.5053326657968666"
      ]
     },
     "execution_count": 16,
     "metadata": {},
     "output_type": "execute_result"
    }
   ],
   "source": [
    "housing=fetch_california_housing()\n",
    "X_train_full, X_test, y_train_full, y_test = train_test_split(housing.data,housing.target,random_state=42)\n",
    "X_train,X_valid,y_train,y_valid=train_test_split(X_train_full,y_train_full, random_state=42)\n",
    "mlp_reg=MLPRegressor(hidden_layer_sizes=[50,50,50], random_state=42)\n",
    "pipeline = make_pipeline(StandardScaler(), mlp_reg)\n",
    "pipeline.fit(X_train,y_train)\n",
    "y_pred = pipeline.predict(X_valid)\n",
    "rmse=mean_squared_error(y_valid,y_pred, squared=False)\n",
    "rmse"
   ]
  },
  {
   "cell_type": "markdown",
   "id": "a66cdf76-7be5-439a-93d2-84457dd390b5",
   "metadata": {},
   "source": [
    "### Image classifier using Sequential API"
   ]
  },
  {
   "cell_type": "code",
   "execution_count": 17,
   "id": "5b0b8030-b08b-4ec0-bc53-29e2d2283352",
   "metadata": {},
   "outputs": [],
   "source": [
    "import tensorflow as tf"
   ]
  },
  {
   "cell_type": "code",
   "execution_count": 18,
   "id": "daf8227f-c8b6-4bb7-b63c-40a34a918fed",
   "metadata": {},
   "outputs": [],
   "source": [
    "fashion_mnist=tf.keras.datasets.fashion_mnist.load_data()"
   ]
  },
  {
   "cell_type": "code",
   "execution_count": 22,
   "id": "dd896e21-e84d-4dd3-9393-55769ac47299",
   "metadata": {},
   "outputs": [],
   "source": [
    "(X_train_full,y_train_full),(X_test,y_test)=fashion_mnist\n",
    "X_train,y_train=X_train_full[:-5000],y_train_full[:-5000]\n",
    "X_valid,y_valid=X_train_full[-5000:],y_train_full[-5000:]"
   ]
  },
  {
   "cell_type": "code",
   "execution_count": 29,
   "id": "fd441733-7e8f-430a-8424-a2fcee9204a0",
   "metadata": {},
   "outputs": [],
   "source": [
    "X_train, X_valid,X_test = X_train/255, X_valid/255 , X_test/255"
   ]
  },
  {
   "cell_type": "code",
   "execution_count": 32,
   "id": "2f690a01-db3b-49ac-ac75-a0b45abe733a",
   "metadata": {},
   "outputs": [
    {
     "data": {
      "text/plain": [
       "'Ankle boot'"
      ]
     },
     "execution_count": 32,
     "metadata": {},
     "output_type": "execute_result"
    }
   ],
   "source": [
    "class_names[y_train[0]]"
   ]
  },
  {
   "cell_type": "code",
   "execution_count": 33,
   "id": "e4e65ec8-2c5b-4f9e-b8bb-4d55c2a2b363",
   "metadata": {},
   "outputs": [
    {
     "data": {
      "text/plain": [
       "['T-shirt/top',\n",
       " 'Trouser',\n",
       " 'Pullover',\n",
       " 'Dress',\n",
       " 'Coat',\n",
       " 'Sandal',\n",
       " 'Shirt',\n",
       " 'Sneaker',\n",
       " 'Bag',\n",
       " 'Ankle boot']"
      ]
     },
     "execution_count": 33,
     "metadata": {},
     "output_type": "execute_result"
    }
   ],
   "source": [
    "class_names"
   ]
  },
  {
   "cell_type": "code",
   "execution_count": 36,
   "id": "9cf0badc-2374-45fc-bae4-6f53b837ba44",
   "metadata": {},
   "outputs": [],
   "source": [
    "tf.random.set_seed(42)\n",
    "model=tf.keras.Sequential()\n",
    "model.add(tf.keras.layers.Input(shape=[28,28]))\n",
    "model.add(tf.keras.layers.Flatten())\n",
    "model.add(tf.keras.layers.Dense(300,activation=\"relu\"))\n",
    "model.add(tf.keras.layers.Dense(100,activation=\"relu\"))\n",
    "model.add(tf.keras.layers.Dense(10,activation=\"softmax\"))\n",
    "\n"
   ]
  },
  {
   "cell_type": "code",
   "execution_count": 64,
   "id": "2390a904-96ef-42ba-8ca2-0794720d5c20",
   "metadata": {},
   "outputs": [
    {
     "name": "stdout",
     "output_type": "stream",
     "text": [
      "Epoch 1/30\n",
      "\u001b[1m1719/1719\u001b[0m \u001b[32m━━━━━━━━━━━━━━━━━━━━\u001b[0m\u001b[37m\u001b[0m \u001b[1m11s\u001b[0m 5ms/step - accuracy: 0.7845 - loss: 0.6102 - val_accuracy: 0.8402 - val_loss: 0.4243\n",
      "Epoch 2/30\n",
      "\u001b[1m1719/1719\u001b[0m \u001b[32m━━━━━━━━━━━━━━━━━━━━\u001b[0m\u001b[37m\u001b[0m \u001b[1m8s\u001b[0m 5ms/step - accuracy: 0.8625 - loss: 0.3785 - val_accuracy: 0.8410 - val_loss: 0.4111\n",
      "Epoch 3/30\n",
      "\u001b[1m1719/1719\u001b[0m \u001b[32m━━━━━━━━━━━━━━━━━━━━\u001b[0m\u001b[37m\u001b[0m \u001b[1m8s\u001b[0m 4ms/step - accuracy: 0.8763 - loss: 0.3323 - val_accuracy: 0.8602 - val_loss: 0.3692\n",
      "Epoch 4/30\n",
      "\u001b[1m1719/1719\u001b[0m \u001b[32m━━━━━━━━━━━━━━━━━━━━\u001b[0m\u001b[37m\u001b[0m \u001b[1m8s\u001b[0m 4ms/step - accuracy: 0.8860 - loss: 0.3045 - val_accuracy: 0.8710 - val_loss: 0.3503\n",
      "Epoch 5/30\n",
      "\u001b[1m1719/1719\u001b[0m \u001b[32m━━━━━━━━━━━━━━━━━━━━\u001b[0m\u001b[37m\u001b[0m \u001b[1m8s\u001b[0m 4ms/step - accuracy: 0.8940 - loss: 0.2833 - val_accuracy: 0.8722 - val_loss: 0.3488\n",
      "Epoch 6/30\n",
      "\u001b[1m1719/1719\u001b[0m \u001b[32m━━━━━━━━━━━━━━━━━━━━\u001b[0m\u001b[37m\u001b[0m \u001b[1m8s\u001b[0m 5ms/step - accuracy: 0.9006 - loss: 0.2671 - val_accuracy: 0.8744 - val_loss: 0.3628\n",
      "Epoch 7/30\n",
      "\u001b[1m1719/1719\u001b[0m \u001b[32m━━━━━━━━━━━━━━━━━━━━\u001b[0m\u001b[37m\u001b[0m \u001b[1m8s\u001b[0m 4ms/step - accuracy: 0.9040 - loss: 0.2539 - val_accuracy: 0.8792 - val_loss: 0.3507\n",
      "Epoch 8/30\n",
      "\u001b[1m1719/1719\u001b[0m \u001b[32m━━━━━━━━━━━━━━━━━━━━\u001b[0m\u001b[37m\u001b[0m \u001b[1m8s\u001b[0m 4ms/step - accuracy: 0.9091 - loss: 0.2403 - val_accuracy: 0.8722 - val_loss: 0.3810\n",
      "Epoch 9/30\n",
      "\u001b[1m1719/1719\u001b[0m \u001b[32m━━━━━━━━━━━━━━━━━━━━\u001b[0m\u001b[37m\u001b[0m \u001b[1m7s\u001b[0m 4ms/step - accuracy: 0.9126 - loss: 0.2315 - val_accuracy: 0.8850 - val_loss: 0.3449\n",
      "Epoch 10/30\n",
      "\u001b[1m1719/1719\u001b[0m \u001b[32m━━━━━━━━━━━━━━━━━━━━\u001b[0m\u001b[37m\u001b[0m \u001b[1m7s\u001b[0m 4ms/step - accuracy: 0.9168 - loss: 0.2196 - val_accuracy: 0.8822 - val_loss: 0.3572\n",
      "Epoch 11/30\n",
      "\u001b[1m1719/1719\u001b[0m \u001b[32m━━━━━━━━━━━━━━━━━━━━\u001b[0m\u001b[37m\u001b[0m \u001b[1m7s\u001b[0m 4ms/step - accuracy: 0.9206 - loss: 0.2102 - val_accuracy: 0.8784 - val_loss: 0.3919\n",
      "Epoch 12/30\n",
      "\u001b[1m1719/1719\u001b[0m \u001b[32m━━━━━━━━━━━━━━━━━━━━\u001b[0m\u001b[37m\u001b[0m \u001b[1m7s\u001b[0m 4ms/step - accuracy: 0.9248 - loss: 0.1997 - val_accuracy: 0.8764 - val_loss: 0.4097\n",
      "Epoch 13/30\n",
      "\u001b[1m1719/1719\u001b[0m \u001b[32m━━━━━━━━━━━━━━━━━━━━\u001b[0m\u001b[37m\u001b[0m \u001b[1m7s\u001b[0m 4ms/step - accuracy: 0.9275 - loss: 0.1927 - val_accuracy: 0.8772 - val_loss: 0.4026\n",
      "Epoch 14/30\n",
      "\u001b[1m1719/1719\u001b[0m \u001b[32m━━━━━━━━━━━━━━━━━━━━\u001b[0m\u001b[37m\u001b[0m \u001b[1m7s\u001b[0m 4ms/step - accuracy: 0.9318 - loss: 0.1820 - val_accuracy: 0.8790 - val_loss: 0.4076\n",
      "Epoch 15/30\n",
      "\u001b[1m1719/1719\u001b[0m \u001b[32m━━━━━━━━━━━━━━━━━━━━\u001b[0m\u001b[37m\u001b[0m \u001b[1m8s\u001b[0m 4ms/step - accuracy: 0.9317 - loss: 0.1788 - val_accuracy: 0.8816 - val_loss: 0.4255\n",
      "Epoch 16/30\n",
      "\u001b[1m1719/1719\u001b[0m \u001b[32m━━━━━━━━━━━━━━━━━━━━\u001b[0m\u001b[37m\u001b[0m \u001b[1m7s\u001b[0m 4ms/step - accuracy: 0.9343 - loss: 0.1743 - val_accuracy: 0.8828 - val_loss: 0.4479\n",
      "Epoch 17/30\n",
      "\u001b[1m1719/1719\u001b[0m \u001b[32m━━━━━━━━━━━━━━━━━━━━\u001b[0m\u001b[37m\u001b[0m \u001b[1m7s\u001b[0m 4ms/step - accuracy: 0.9373 - loss: 0.1655 - val_accuracy: 0.8782 - val_loss: 0.4482\n",
      "Epoch 18/30\n",
      "\u001b[1m1719/1719\u001b[0m \u001b[32m━━━━━━━━━━━━━━━━━━━━\u001b[0m\u001b[37m\u001b[0m \u001b[1m7s\u001b[0m 4ms/step - accuracy: 0.9406 - loss: 0.1577 - val_accuracy: 0.8862 - val_loss: 0.4486\n",
      "Epoch 19/30\n",
      "\u001b[1m1719/1719\u001b[0m \u001b[32m━━━━━━━━━━━━━━━━━━━━\u001b[0m\u001b[37m\u001b[0m \u001b[1m7s\u001b[0m 4ms/step - accuracy: 0.9389 - loss: 0.1614 - val_accuracy: 0.8786 - val_loss: 0.4865\n",
      "Epoch 20/30\n",
      "\u001b[1m1719/1719\u001b[0m \u001b[32m━━━━━━━━━━━━━━━━━━━━\u001b[0m\u001b[37m\u001b[0m \u001b[1m7s\u001b[0m 4ms/step - accuracy: 0.9429 - loss: 0.1509 - val_accuracy: 0.8788 - val_loss: 0.4663\n",
      "Epoch 21/30\n",
      "\u001b[1m1719/1719\u001b[0m \u001b[32m━━━━━━━━━━━━━━━━━━━━\u001b[0m\u001b[37m\u001b[0m \u001b[1m7s\u001b[0m 4ms/step - accuracy: 0.9432 - loss: 0.1469 - val_accuracy: 0.8768 - val_loss: 0.4646\n",
      "Epoch 22/30\n",
      "\u001b[1m1719/1719\u001b[0m \u001b[32m━━━━━━━━━━━━━━━━━━━━\u001b[0m\u001b[37m\u001b[0m \u001b[1m7s\u001b[0m 4ms/step - accuracy: 0.9455 - loss: 0.1435 - val_accuracy: 0.8866 - val_loss: 0.4937\n",
      "Epoch 23/30\n",
      "\u001b[1m1719/1719\u001b[0m \u001b[32m━━━━━━━━━━━━━━━━━━━━\u001b[0m\u001b[37m\u001b[0m \u001b[1m8s\u001b[0m 5ms/step - accuracy: 0.9470 - loss: 0.1393 - val_accuracy: 0.8784 - val_loss: 0.5563\n",
      "Epoch 24/30\n",
      "\u001b[1m1719/1719\u001b[0m \u001b[32m━━━━━━━━━━━━━━━━━━━━\u001b[0m\u001b[37m\u001b[0m \u001b[1m7s\u001b[0m 4ms/step - accuracy: 0.9477 - loss: 0.1381 - val_accuracy: 0.8826 - val_loss: 0.4832\n",
      "Epoch 25/30\n",
      "\u001b[1m1719/1719\u001b[0m \u001b[32m━━━━━━━━━━━━━━━━━━━━\u001b[0m\u001b[37m\u001b[0m \u001b[1m7s\u001b[0m 4ms/step - accuracy: 0.9491 - loss: 0.1353 - val_accuracy: 0.8790 - val_loss: 0.5102\n",
      "Epoch 26/30\n",
      "\u001b[1m1719/1719\u001b[0m \u001b[32m━━━━━━━━━━━━━━━━━━━━\u001b[0m\u001b[37m\u001b[0m \u001b[1m8s\u001b[0m 4ms/step - accuracy: 0.9512 - loss: 0.1281 - val_accuracy: 0.8734 - val_loss: 0.5974\n",
      "Epoch 27/30\n",
      "\u001b[1m1719/1719\u001b[0m \u001b[32m━━━━━━━━━━━━━━━━━━━━\u001b[0m\u001b[37m\u001b[0m \u001b[1m8s\u001b[0m 5ms/step - accuracy: 0.9523 - loss: 0.1277 - val_accuracy: 0.8814 - val_loss: 0.5032\n",
      "Epoch 28/30\n",
      "\u001b[1m1719/1719\u001b[0m \u001b[32m━━━━━━━━━━━━━━━━━━━━\u001b[0m\u001b[37m\u001b[0m \u001b[1m8s\u001b[0m 5ms/step - accuracy: 0.9524 - loss: 0.1233 - val_accuracy: 0.8812 - val_loss: 0.6060\n",
      "Epoch 29/30\n",
      "\u001b[1m1719/1719\u001b[0m \u001b[32m━━━━━━━━━━━━━━━━━━━━\u001b[0m\u001b[37m\u001b[0m \u001b[1m8s\u001b[0m 4ms/step - accuracy: 0.9552 - loss: 0.1177 - val_accuracy: 0.8690 - val_loss: 0.6663\n",
      "Epoch 30/30\n",
      "\u001b[1m1719/1719\u001b[0m \u001b[32m━━━━━━━━━━━━━━━━━━━━\u001b[0m\u001b[37m\u001b[0m \u001b[1m8s\u001b[0m 5ms/step - accuracy: 0.9565 - loss: 0.1140 - val_accuracy: 0.8790 - val_loss: 0.6159\n"
     ]
    }
   ],
   "source": [
    "tf.random.set_seed(42)\n",
    "model=tf.keras.Sequential()\n",
    "model.add(tf.keras.layers.Input(shape=[28,28]))\n",
    "model.add(tf.keras.layers.Flatten())\n",
    "model.add(tf.keras.layers.Dense(300,activation=\"relu\"))\n",
    "model.add(tf.keras.layers.Dense(100,activation=\"relu\"))\n",
    "model.add(tf.keras.layers.Dense(10,activation=\"softmax\"))\n",
    "model.compile(loss='sparse_categorical_crossentropy',optimizer='adam',metrics=['accuracy'])\n",
    "history=model.fit(X_train,y_train,epochs=30,validation_data=(X_valid,y_valid))\n",
    "# model.evaluate(X_test,y_test)"
   ]
  },
  {
   "cell_type": "code",
   "execution_count": 51,
   "id": "80ee0aaf-c477-4103-8a1d-d83dce7e1771",
   "metadata": {},
   "outputs": [
    {
     "name": "stdout",
     "output_type": "stream",
     "text": [
      "\u001b[1m313/313\u001b[0m \u001b[32m━━━━━━━━━━━━━━━━━━━━\u001b[0m\u001b[37m\u001b[0m \u001b[1m1s\u001b[0m 2ms/step\n"
     ]
    },
    {
     "data": {
      "text/plain": [
       "array([[8.1183501e-02, 2.0508717e-01, 1.1525068e-02, ..., 1.0379396e-05,\n",
       "        5.6793688e-05, 1.4187264e-05],\n",
       "       [8.9072198e-01, 3.9637867e-05, 9.9997061e-01, ..., 1.0355134e-14,\n",
       "        2.0502521e-14, 3.6642181e-14],\n",
       "       [7.1135056e-01, 1.0000000e+00, 1.8353124e-01, ..., 8.5685656e-14,\n",
       "        1.2669179e-12, 1.8768555e-13],\n",
       "       ...,\n",
       "       [6.7427468e-01, 1.3780004e-03, 4.7562357e-02, ..., 2.2721480e-09,\n",
       "        2.7219363e-10, 1.1249563e-08],\n",
       "       [4.9913235e-02, 9.9999905e-01, 2.0909607e-02, ..., 4.7166062e-09,\n",
       "        8.1872837e-09, 6.9611787e-09],\n",
       "       [2.7564389e-01, 2.2128828e-02, 2.5656688e-01, ..., 1.9904491e-07,\n",
       "        7.2542463e-07, 1.0738913e-06]], dtype=float32)"
      ]
     },
     "execution_count": 51,
     "metadata": {},
     "output_type": "execute_result"
    }
   ],
   "source": [
    "model.predict(X_test)"
   ]
  },
  {
   "cell_type": "code",
   "execution_count": 65,
   "id": "9db288fe-0331-47b3-a186-e98874b91cda",
   "metadata": {},
   "outputs": [
    {
     "data": {
      "image/png": "[encoded data removed]",
      "text/plain": [
       "<Figure size 800x500 with 1 Axes>"
      ]
     },
     "metadata": {},
     "output_type": "display_data"
    }
   ],
   "source": [
    "import matplotlib.pyplot as plt\n",
    "import pandas as pd\n",
    "df=pd.DataFrame(history.history).plot(\n",
    "    figsize=(8,5), xlim=[0,29], ylim=[0,1], grid= True, xlabel='Epoch',\n",
    "    style=['r--','r--.','b-','b-*'])\n",
    "plt.show()"
   ]
  },
  {
   "cell_type": "code",
   "execution_count": 68,
   "id": "31e77789-a1d2-4904-8011-0918b801dabc",
   "metadata": {},
   "outputs": [
    {
     "name": "stdout",
     "output_type": "stream",
     "text": [
      "\u001b[1m313/313\u001b[0m \u001b[32m━━━━━━━━━━━━━━━━━━━━\u001b[0m\u001b[37m\u001b[0m \u001b[1m1s\u001b[0m 2ms/step\n"
     ]
    },
    {
     "data": {
      "text/plain": [
       "{0, 1, 2, 3, 4, 5, 6, 7, 8, 9}"
      ]
     },
     "execution_count": 68,
     "metadata": {},
     "output_type": "execute_result"
    }
   ],
   "source": [
    "y_proba=model.predict(X_test)\n",
    "y_pred=y_proba.argmax(axis=-1)\n",
    "set(y_pred)"
   ]
  },
  {
   "cell_type": "code",
   "execution_count": 74,
   "id": "00700797-c3a8-4418-825a-f3fbbbc66fae",
   "metadata": {},
   "outputs": [
    {
     "name": "stdout",
     "output_type": "stream",
     "text": [
      "Epoch 1/20\n",
      "\u001b[1m1719/1719\u001b[0m \u001b[32m━━━━━━━━━━━━━━━━━━━━\u001b[0m\u001b[37m\u001b[0m \u001b[1m17s\u001b[0m 5ms/step - RootMeanSquaredError: 3.1203 - loss: 9.8690 - val_RootMeanSquaredError: 2.9038 - val_loss: 8.4320\n",
      "Epoch 2/20\n",
      "\u001b[1m1719/1719\u001b[0m \u001b[32m━━━━━━━━━━━━━━━━━━━━\u001b[0m\u001b[37m\u001b[0m \u001b[1m7s\u001b[0m 4ms/step - RootMeanSquaredError: 2.8849 - loss: 8.3225 - val_RootMeanSquaredError: 2.9001 - val_loss: 8.4104\n",
      "Epoch 3/20\n",
      "\u001b[1m1719/1719\u001b[0m \u001b[32m━━━━━━━━━━━━━━━━━━━━\u001b[0m\u001b[37m\u001b[0m \u001b[1m7s\u001b[0m 4ms/step - RootMeanSquaredError: 2.8793 - loss: 8.2905 - val_RootMeanSquaredError: 2.9005 - val_loss: 8.4128\n",
      "Epoch 4/20\n",
      "\u001b[1m1719/1719\u001b[0m \u001b[32m━━━━━━━━━━━━━━━━━━━━\u001b[0m\u001b[37m\u001b[0m \u001b[1m7s\u001b[0m 4ms/step - RootMeanSquaredError: 2.8775 - loss: 8.2801 - val_RootMeanSquaredError: 2.8992 - val_loss: 8.4055\n",
      "Epoch 5/20\n",
      "\u001b[1m1719/1719\u001b[0m \u001b[32m━━━━━━━━━━━━━━━━━━━━\u001b[0m\u001b[37m\u001b[0m \u001b[1m7s\u001b[0m 4ms/step - RootMeanSquaredError: 2.8764 - loss: 8.2736 - val_RootMeanSquaredError: 2.8975 - val_loss: 8.3957\n",
      "Epoch 6/20\n",
      "\u001b[1m1719/1719\u001b[0m \u001b[32m━━━━━━━━━━━━━━━━━━━━\u001b[0m\u001b[37m\u001b[0m \u001b[1m7s\u001b[0m 4ms/step - RootMeanSquaredError: 2.8755 - loss: 8.2687 - val_RootMeanSquaredError: 2.8954 - val_loss: 8.3832\n",
      "Epoch 7/20\n",
      "\u001b[1m1719/1719\u001b[0m \u001b[32m━━━━━━━━━━━━━━━━━━━━\u001b[0m\u001b[37m\u001b[0m \u001b[1m7s\u001b[0m 4ms/step - RootMeanSquaredError: 2.8745 - loss: 8.2630 - val_RootMeanSquaredError: 2.8933 - val_loss: 8.3711\n",
      "Epoch 8/20\n",
      "\u001b[1m1719/1719\u001b[0m \u001b[32m━━━━━━━━━━━━━━━━━━━━\u001b[0m\u001b[37m\u001b[0m \u001b[1m7s\u001b[0m 4ms/step - RootMeanSquaredError: 2.8737 - loss: 8.2581 - val_RootMeanSquaredError: 2.8927 - val_loss: 8.3675\n",
      "Epoch 9/20\n",
      "\u001b[1m1719/1719\u001b[0m \u001b[32m━━━━━━━━━━━━━━━━━━━━\u001b[0m\u001b[37m\u001b[0m \u001b[1m7s\u001b[0m 4ms/step - RootMeanSquaredError: 2.8731 - loss: 8.2547 - val_RootMeanSquaredError: 2.8925 - val_loss: 8.3665\n",
      "Epoch 10/20\n",
      "\u001b[1m1719/1719\u001b[0m \u001b[32m━━━━━━━━━━━━━━━━━━━━\u001b[0m\u001b[37m\u001b[0m \u001b[1m7s\u001b[0m 4ms/step - RootMeanSquaredError: 2.8727 - loss: 8.2525 - val_RootMeanSquaredError: 2.8925 - val_loss: 8.3666\n",
      "Epoch 11/20\n",
      "\u001b[1m1719/1719\u001b[0m \u001b[32m━━━━━━━━━━━━━━━━━━━━\u001b[0m\u001b[37m\u001b[0m \u001b[1m7s\u001b[0m 4ms/step - RootMeanSquaredError: 2.8725 - loss: 8.2513 - val_RootMeanSquaredError: 2.8926 - val_loss: 8.3671\n",
      "Epoch 12/20\n",
      "\u001b[1m1719/1719\u001b[0m \u001b[32m━━━━━━━━━━━━━━━━━━━━\u001b[0m\u001b[37m\u001b[0m \u001b[1m7s\u001b[0m 4ms/step - RootMeanSquaredError: 2.8723 - loss: 8.2503 - val_RootMeanSquaredError: 2.8926 - val_loss: 8.3674\n",
      "Epoch 13/20\n",
      "\u001b[1m1719/1719\u001b[0m \u001b[32m━━━━━━━━━━━━━━━━━━━━\u001b[0m\u001b[37m\u001b[0m \u001b[1m7s\u001b[0m 4ms/step - RootMeanSquaredError: 2.8722 - loss: 8.2497 - val_RootMeanSquaredError: 2.8927 - val_loss: 8.3677\n",
      "Epoch 14/20\n",
      "\u001b[1m1719/1719\u001b[0m \u001b[32m━━━━━━━━━━━━━━━━━━━━\u001b[0m\u001b[37m\u001b[0m \u001b[1m7s\u001b[0m 4ms/step - RootMeanSquaredError: 2.8723 - loss: 8.2501 - val_RootMeanSquaredError: 2.8927 - val_loss: 8.3680\n",
      "Epoch 15/20\n",
      "\u001b[1m1719/1719\u001b[0m \u001b[32m━━━━━━━━━━━━━━━━━━━━\u001b[0m\u001b[37m\u001b[0m \u001b[1m7s\u001b[0m 4ms/step - RootMeanSquaredError: 2.8722 - loss: 8.2494 - val_RootMeanSquaredError: 2.8928 - val_loss: 8.3682\n",
      "Epoch 16/20\n",
      "\u001b[1m1719/1719\u001b[0m \u001b[32m━━━━━━━━━━━━━━━━━━━━\u001b[0m\u001b[37m\u001b[0m \u001b[1m7s\u001b[0m 4ms/step - RootMeanSquaredError: 2.8720 - loss: 8.2484 - val_RootMeanSquaredError: 2.8928 - val_loss: 8.3684\n",
      "Epoch 17/20\n",
      "\u001b[1m1719/1719\u001b[0m \u001b[32m━━━━━━━━━━━━━━━━━━━━\u001b[0m\u001b[37m\u001b[0m \u001b[1m7s\u001b[0m 4ms/step - RootMeanSquaredError: 2.8719 - loss: 8.2480 - val_RootMeanSquaredError: 2.8929 - val_loss: 8.3687\n",
      "Epoch 18/20\n",
      "\u001b[1m1719/1719\u001b[0m \u001b[32m━━━━━━━━━━━━━━━━━━━━\u001b[0m\u001b[37m\u001b[0m \u001b[1m7s\u001b[0m 4ms/step - RootMeanSquaredError: 2.8719 - loss: 8.2478 - val_RootMeanSquaredError: 2.8929 - val_loss: 8.3689\n",
      "Epoch 19/20\n",
      "\u001b[1m1719/1719\u001b[0m \u001b[32m━━━━━━━━━━━━━━━━━━━━\u001b[0m\u001b[37m\u001b[0m \u001b[1m7s\u001b[0m 4ms/step - RootMeanSquaredError: 2.8718 - loss: 8.2475 - val_RootMeanSquaredError: 2.8929 - val_loss: 8.3689\n",
      "Epoch 20/20\n",
      "\u001b[1m1719/1719\u001b[0m \u001b[32m━━━━━━━━━━━━━━━━━━━━\u001b[0m\u001b[37m\u001b[0m \u001b[1m7s\u001b[0m 4ms/step - RootMeanSquaredError: 2.8718 - loss: 8.2474 - val_RootMeanSquaredError: 2.8930 - val_loss: 8.3693\n",
      "\u001b[1m313/313\u001b[0m \u001b[32m━━━━━━━━━━━━━━━━━━━━\u001b[0m\u001b[37m\u001b[0m \u001b[1m1s\u001b[0m 2ms/step - RootMeanSquaredError: 2.8624 - loss: 8.1934\n",
      "\u001b[1m1/1\u001b[0m \u001b[32m━━━━━━━━━━━━━━━━━━━━\u001b[0m\u001b[37m\u001b[0m \u001b[1m0s\u001b[0m 101ms/step\n"
     ]
    },
    {
     "data": {
      "text/plain": [
       "array([[[4.441906 ],\n",
       "        [4.441906 ],\n",
       "        [4.441906 ],\n",
       "        [4.441906 ],\n",
       "        [4.441906 ],\n",
       "        [4.441906 ],\n",
       "        [4.441906 ],\n",
       "        [4.4477644],\n",
       "        [4.452988 ],\n",
       "        [4.453755 ],\n",
       "        [4.497946 ],\n",
       "        [4.494534 ],\n",
       "        [4.505214 ],\n",
       "        [4.5174336],\n",
       "        [4.5171247],\n",
       "        [4.505931 ],\n",
       "        [4.500253 ],\n",
       "        [4.5023837],\n",
       "        [4.5004654],\n",
       "        [4.5225816],\n",
       "        [4.5204263],\n",
       "        [4.5234756],\n",
       "        [4.441906 ],\n",
       "        [4.441906 ],\n",
       "        [4.441906 ],\n",
       "        [4.441906 ],\n",
       "        [4.441906 ],\n",
       "        [4.441906 ]],\n",
       "\n",
       "       [[4.4284067],\n",
       "        [4.379226 ],\n",
       "        [4.379226 ],\n",
       "        [4.38613  ],\n",
       "        [4.388136 ],\n",
       "        [4.4007573],\n",
       "        [4.341788 ],\n",
       "        [4.4291863],\n",
       "        [4.45477  ],\n",
       "        [4.4300866],\n",
       "        [4.318622 ],\n",
       "        [4.37275  ],\n",
       "        [4.379226 ],\n",
       "        [4.391405 ],\n",
       "        [4.393899 ],\n",
       "        [4.3896008],\n",
       "        [4.3852186],\n",
       "        [4.379226 ],\n",
       "        [4.379226 ],\n",
       "        [4.379226 ],\n",
       "        [4.379226 ],\n",
       "        [4.379226 ],\n",
       "        [4.3805623],\n",
       "        [4.379226 ],\n",
       "        [4.379226 ],\n",
       "        [4.4305053],\n",
       "        [4.445136 ],\n",
       "        [4.422139 ]],\n",
       "\n",
       "       [[4.39338  ],\n",
       "        [4.379226 ],\n",
       "        [4.379226 ],\n",
       "        [4.379226 ],\n",
       "        [4.379226 ],\n",
       "        [4.379226 ],\n",
       "        [4.379226 ],\n",
       "        [4.379226 ],\n",
       "        [4.379226 ],\n",
       "        [4.379226 ],\n",
       "        [4.3618503],\n",
       "        [4.3411856],\n",
       "        [4.340712 ],\n",
       "        [4.349153 ],\n",
       "        [4.357329 ],\n",
       "        [4.358267 ],\n",
       "        [4.3683248],\n",
       "        [4.361788 ],\n",
       "        [4.36194  ],\n",
       "        [4.362331 ],\n",
       "        [4.3757176],\n",
       "        [4.379226 ],\n",
       "        [4.379226 ],\n",
       "        [4.358359 ],\n",
       "        [4.324121 ],\n",
       "        [4.2968364],\n",
       "        [4.2623057],\n",
       "        [4.381975 ]]], dtype=float32)"
      ]
     },
     "execution_count": 74,
     "metadata": {},
     "output_type": "execute_result"
    }
   ],
   "source": [
    "tf.random.set_seed(42)\n",
    "norm_layer=tf.keras.layers.Normalization(input_shape=X_train.shape[1:])\n",
    "model=tf.keras.Sequential([\n",
    "    norm_layer,\n",
    "    tf.keras.layers.Dense(50, activation='relu'),\n",
    "    tf.keras.layers.Dense(50, activation='relu'),\n",
    "    tf.keras.layers.Dense(50, activation='relu'),\n",
    "    tf.keras.layers.Dense(1),\n",
    "])\n",
    "optimizer=tf.keras.optimizers.Adam(learning_rate=1e-3)\n",
    "model.compile(loss='mse',optimizer=optimizer, metrics=['RootMeanSquaredError'])\n",
    "norm_layer.adapt(X_train)\n",
    "history=model.fit(X_train,y_train,epochs=20,validation_data=(X_valid,y_valid))\n",
    "mse_test, rmse_test=model.evaluate(X_test,y_test)\n",
    "X_new=X_test[:3]\n",
    "y_pred=model.predict(X_new)\n",
    "y_pred"
   ]
  },
  {
   "cell_type": "code",
   "execution_count": 75,
   "id": "17a915f8-17cb-4f4b-9188-fdd21bbcd6fd",
   "metadata": {},
   "outputs": [
    {
     "name": "stdout",
     "output_type": "stream",
     "text": [
      "\u001b[1m313/313\u001b[0m \u001b[32m━━━━━━━━━━━━━━━━━━━━\u001b[0m\u001b[37m\u001b[0m \u001b[1m1s\u001b[0m 2ms/step - RootMeanSquaredError: 2.8624 - loss: 8.1934\n"
     ]
    },
    {
     "data": {
      "text/plain": [
       "[8.2536039352417, 2.872908353805542]"
      ]
     },
     "execution_count": 75,
     "metadata": {},
     "output_type": "execute_result"
    }
   ],
   "source": [
    "model.evaluate(X_test,y_test)"
   ]
  },
  {
   "cell_type": "markdown",
   "id": "19adb6c4-3eaf-427f-8924-270554996f9c",
   "metadata": {},
   "source": [
    "### California Housing "
   ]
  },
  {
   "cell_type": "code",
   "execution_count": 78,
   "id": "665fb3a0-273f-496d-ae26-eee7f917d79b",
   "metadata": {},
   "outputs": [
    {
     "data": {
      "text/html": [
       "<div>\n",
       "<style scoped>\n",
       "    .dataframe tbody tr th:only-of-type {\n",
       "        vertical-align: middle;\n",
       "    }\n",
       "\n",
       "    .dataframe tbody tr th {\n",
       "        vertical-align: top;\n",
       "    }\n",
       "\n",
       "    .dataframe thead th {\n",
       "        text-align: right;\n",
       "    }\n",
       "</style>\n",
       "<table border=\"1\" class=\"dataframe\">\n",
       "  <thead>\n",
       "    <tr style=\"text-align: right;\">\n",
       "      <th></th>\n",
       "      <th>MedInc</th>\n",
       "      <th>HouseAge</th>\n",
       "      <th>AveRooms</th>\n",
       "      <th>AveBedrms</th>\n",
       "      <th>Population</th>\n",
       "      <th>AveOccup</th>\n",
       "      <th>Latitude</th>\n",
       "      <th>Longitude</th>\n",
       "      <th>target</th>\n",
       "    </tr>\n",
       "  </thead>\n",
       "  <tbody>\n",
       "    <tr>\n",
       "      <th>0</th>\n",
       "      <td>8.3252</td>\n",
       "      <td>41.0</td>\n",
       "      <td>6.984127</td>\n",
       "      <td>1.023810</td>\n",
       "      <td>322.0</td>\n",
       "      <td>2.555556</td>\n",
       "      <td>37.88</td>\n",
       "      <td>-122.23</td>\n",
       "      <td>4.526</td>\n",
       "    </tr>\n",
       "    <tr>\n",
       "      <th>1</th>\n",
       "      <td>8.3014</td>\n",
       "      <td>21.0</td>\n",
       "      <td>6.238137</td>\n",
       "      <td>0.971880</td>\n",
       "      <td>2401.0</td>\n",
       "      <td>2.109842</td>\n",
       "      <td>37.86</td>\n",
       "      <td>-122.22</td>\n",
       "      <td>3.585</td>\n",
       "    </tr>\n",
       "    <tr>\n",
       "      <th>2</th>\n",
       "      <td>7.2574</td>\n",
       "      <td>52.0</td>\n",
       "      <td>8.288136</td>\n",
       "      <td>1.073446</td>\n",
       "      <td>496.0</td>\n",
       "      <td>2.802260</td>\n",
       "      <td>37.85</td>\n",
       "      <td>-122.24</td>\n",
       "      <td>3.521</td>\n",
       "    </tr>\n",
       "    <tr>\n",
       "      <th>3</th>\n",
       "      <td>5.6431</td>\n",
       "      <td>52.0</td>\n",
       "      <td>5.817352</td>\n",
       "      <td>1.073059</td>\n",
       "      <td>558.0</td>\n",
       "      <td>2.547945</td>\n",
       "      <td>37.85</td>\n",
       "      <td>-122.25</td>\n",
       "      <td>3.413</td>\n",
       "    </tr>\n",
       "    <tr>\n",
       "      <th>4</th>\n",
       "      <td>3.8462</td>\n",
       "      <td>52.0</td>\n",
       "      <td>6.281853</td>\n",
       "      <td>1.081081</td>\n",
       "      <td>565.0</td>\n",
       "      <td>2.181467</td>\n",
       "      <td>37.85</td>\n",
       "      <td>-122.25</td>\n",
       "      <td>3.422</td>\n",
       "    </tr>\n",
       "    <tr>\n",
       "      <th>...</th>\n",
       "      <td>...</td>\n",
       "      <td>...</td>\n",
       "      <td>...</td>\n",
       "      <td>...</td>\n",
       "      <td>...</td>\n",
       "      <td>...</td>\n",
       "      <td>...</td>\n",
       "      <td>...</td>\n",
       "      <td>...</td>\n",
       "    </tr>\n",
       "    <tr>\n",
       "      <th>20635</th>\n",
       "      <td>1.5603</td>\n",
       "      <td>25.0</td>\n",
       "      <td>5.045455</td>\n",
       "      <td>1.133333</td>\n",
       "      <td>845.0</td>\n",
       "      <td>2.560606</td>\n",
       "      <td>39.48</td>\n",
       "      <td>-121.09</td>\n",
       "      <td>0.781</td>\n",
       "    </tr>\n",
       "    <tr>\n",
       "      <th>20636</th>\n",
       "      <td>2.5568</td>\n",
       "      <td>18.0</td>\n",
       "      <td>6.114035</td>\n",
       "      <td>1.315789</td>\n",
       "      <td>356.0</td>\n",
       "      <td>3.122807</td>\n",
       "      <td>39.49</td>\n",
       "      <td>-121.21</td>\n",
       "      <td>0.771</td>\n",
       "    </tr>\n",
       "    <tr>\n",
       "      <th>20637</th>\n",
       "      <td>1.7000</td>\n",
       "      <td>17.0</td>\n",
       "      <td>5.205543</td>\n",
       "      <td>1.120092</td>\n",
       "      <td>1007.0</td>\n",
       "      <td>2.325635</td>\n",
       "      <td>39.43</td>\n",
       "      <td>-121.22</td>\n",
       "      <td>0.923</td>\n",
       "    </tr>\n",
       "    <tr>\n",
       "      <th>20638</th>\n",
       "      <td>1.8672</td>\n",
       "      <td>18.0</td>\n",
       "      <td>5.329513</td>\n",
       "      <td>1.171920</td>\n",
       "      <td>741.0</td>\n",
       "      <td>2.123209</td>\n",
       "      <td>39.43</td>\n",
       "      <td>-121.32</td>\n",
       "      <td>0.847</td>\n",
       "    </tr>\n",
       "    <tr>\n",
       "      <th>20639</th>\n",
       "      <td>2.3886</td>\n",
       "      <td>16.0</td>\n",
       "      <td>5.254717</td>\n",
       "      <td>1.162264</td>\n",
       "      <td>1387.0</td>\n",
       "      <td>2.616981</td>\n",
       "      <td>39.37</td>\n",
       "      <td>-121.24</td>\n",
       "      <td>0.894</td>\n",
       "    </tr>\n",
       "  </tbody>\n",
       "</table>\n",
       "<p>20640 rows × 9 columns</p>\n",
       "</div>"
      ],
      "text/plain": [
       "       MedInc  HouseAge  AveRooms  AveBedrms  Population  AveOccup  Latitude  \\\n",
       "0      8.3252      41.0  6.984127   1.023810       322.0  2.555556     37.88   \n",
       "1      8.3014      21.0  6.238137   0.971880      2401.0  2.109842     37.86   \n",
       "2      7.2574      52.0  8.288136   1.073446       496.0  2.802260     37.85   \n",
       "3      5.6431      52.0  5.817352   1.073059       558.0  2.547945     37.85   \n",
       "4      3.8462      52.0  6.281853   1.081081       565.0  2.181467     37.85   \n",
       "...       ...       ...       ...        ...         ...       ...       ...   \n",
       "20635  1.5603      25.0  5.045455   1.133333       845.0  2.560606     39.48   \n",
       "20636  2.5568      18.0  6.114035   1.315789       356.0  3.122807     39.49   \n",
       "20637  1.7000      17.0  5.205543   1.120092      1007.0  2.325635     39.43   \n",
       "20638  1.8672      18.0  5.329513   1.171920       741.0  2.123209     39.43   \n",
       "20639  2.3886      16.0  5.254717   1.162264      1387.0  2.616981     39.37   \n",
       "\n",
       "       Longitude  target  \n",
       "0        -122.23   4.526  \n",
       "1        -122.22   3.585  \n",
       "2        -122.24   3.521  \n",
       "3        -122.25   3.413  \n",
       "4        -122.25   3.422  \n",
       "...          ...     ...  \n",
       "20635    -121.09   0.781  \n",
       "20636    -121.21   0.771  \n",
       "20637    -121.22   0.923  \n",
       "20638    -121.32   0.847  \n",
       "20639    -121.24   0.894  \n",
       "\n",
       "[20640 rows x 9 columns]"
      ]
     },
     "execution_count": 78,
     "metadata": {},
     "output_type": "execute_result"
    }
   ],
   "source": [
    "from sklearn.datasets import fetch_california_housing\n",
    "import pandas as pd\n",
    "\n",
    "housing = fetch_california_housing()\n",
    "df = pd.DataFrame(housing.data, columns=housing.feature_names)\n",
    "df['target'] = housing.target\n",
    "df"
   ]
  },
  {
   "cell_type": "code",
   "execution_count": 84,
   "id": "f699ab81-877a-4480-816d-769494102738",
   "metadata": {},
   "outputs": [],
   "source": [
    "from sklearn.model_selection import train_test_split\n",
    "X_train,X_test,y_train,y_test=train_test_split(df.drop('target',axis=1),df['target'],test_size=0.2)"
   ]
  },
  {
   "cell_type": "code",
   "execution_count": 103,
   "id": "8a13a5be-6ad9-4426-9ee2-cc50330f11a7",
   "metadata": {},
   "outputs": [
    {
     "name": "stdout",
     "output_type": "stream",
     "text": [
      "\u001b[1m129/129\u001b[0m \u001b[32m━━━━━━━━━━━━━━━━━━━━\u001b[0m\u001b[37m\u001b[0m \u001b[1m1s\u001b[0m 1ms/step - accuracy: 0.0021 - loss: 8.9083    \n"
     ]
    },
    {
     "data": {
      "text/plain": [
       "[8.639761924743652, 0.0019379844889044762]"
      ]
     },
     "execution_count": 103,
     "metadata": {},
     "output_type": "execute_result"
    }
   ],
   "source": [
    "normalization_layer=tf.keras.layers.Normalization()\n",
    "hidden_layer1=tf.keras.layers.Dense(30,activation='relu')\n",
    "hidden_layer2=tf.keras.layers.Dense(30,activation='relu')\n",
    "concat_layer=tf.keras.layers.Concatenate()\n",
    "output_layer=tf.keras.layers.Dense(6)\n",
    "\n",
    "input_=tf.keras.layers.Input(shape=X_train.shape[1:])\n",
    "normalized=normalization_layer(input_)\n",
    "hidden1=hidden_layer1(normalized)\n",
    "hidden2=hidden_layer2(normalized)\n",
    "concat=concat_layer([normalized,hidden2])\n",
    "output=output_layer(concat)\n",
    "\n",
    "model=tf.keras.Model(inputs=[input_],outputs=[output])\n",
    "model.compile(optimizer='adam',loss='sparse_categorical_crossentropy',metrics=['accuracy'])\n",
    "model.evaluate(X_test,y_test)"
   ]
  },
  {
   "cell_type": "code",
   "execution_count": 87,
   "id": "75d476ad-0e35-46cd-930f-df7953c935c9",
   "metadata": {},
   "outputs": [
    {
     "data": {
      "text/html": [
       "<div>\n",
       "<style scoped>\n",
       "    .dataframe tbody tr th:only-of-type {\n",
       "        vertical-align: middle;\n",
       "    }\n",
       "\n",
       "    .dataframe tbody tr th {\n",
       "        vertical-align: top;\n",
       "    }\n",
       "\n",
       "    .dataframe thead th {\n",
       "        text-align: right;\n",
       "    }\n",
       "</style>\n",
       "<table border=\"1\" class=\"dataframe\">\n",
       "  <thead>\n",
       "    <tr style=\"text-align: right;\">\n",
       "      <th></th>\n",
       "      <th>MedInc</th>\n",
       "      <th>HouseAge</th>\n",
       "      <th>AveRooms</th>\n",
       "      <th>AveBedrms</th>\n",
       "      <th>Population</th>\n",
       "      <th>AveOccup</th>\n",
       "      <th>Latitude</th>\n",
       "      <th>Longitude</th>\n",
       "    </tr>\n",
       "  </thead>\n",
       "  <tbody>\n",
       "    <tr>\n",
       "      <th>12940</th>\n",
       "      <td>5.6864</td>\n",
       "      <td>21.0</td>\n",
       "      <td>7.677778</td>\n",
       "      <td>1.008333</td>\n",
       "      <td>902.0</td>\n",
       "      <td>2.505556</td>\n",
       "      <td>38.64</td>\n",
       "      <td>-121.25</td>\n",
       "    </tr>\n",
       "    <tr>\n",
       "      <th>4265</th>\n",
       "      <td>1.7306</td>\n",
       "      <td>28.0</td>\n",
       "      <td>2.837097</td>\n",
       "      <td>1.154839</td>\n",
       "      <td>1463.0</td>\n",
       "      <td>2.359677</td>\n",
       "      <td>34.10</td>\n",
       "      <td>-118.32</td>\n",
       "    </tr>\n",
       "    <tr>\n",
       "      <th>20035</th>\n",
       "      <td>1.6103</td>\n",
       "      <td>44.0</td>\n",
       "      <td>4.822835</td>\n",
       "      <td>1.131890</td>\n",
       "      <td>1330.0</td>\n",
       "      <td>2.618110</td>\n",
       "      <td>36.07</td>\n",
       "      <td>-119.01</td>\n",
       "    </tr>\n",
       "    <tr>\n",
       "      <th>10309</th>\n",
       "      <td>7.4947</td>\n",
       "      <td>4.0</td>\n",
       "      <td>7.311043</td>\n",
       "      <td>1.054346</td>\n",
       "      <td>16122.0</td>\n",
       "      <td>3.106957</td>\n",
       "      <td>33.89</td>\n",
       "      <td>-117.74</td>\n",
       "    </tr>\n",
       "    <tr>\n",
       "      <th>10885</th>\n",
       "      <td>4.2708</td>\n",
       "      <td>15.0</td>\n",
       "      <td>5.146302</td>\n",
       "      <td>1.088424</td>\n",
       "      <td>1510.0</td>\n",
       "      <td>2.427653</td>\n",
       "      <td>33.70</td>\n",
       "      <td>-117.92</td>\n",
       "    </tr>\n",
       "    <tr>\n",
       "      <th>...</th>\n",
       "      <td>...</td>\n",
       "      <td>...</td>\n",
       "      <td>...</td>\n",
       "      <td>...</td>\n",
       "      <td>...</td>\n",
       "      <td>...</td>\n",
       "      <td>...</td>\n",
       "      <td>...</td>\n",
       "    </tr>\n",
       "    <tr>\n",
       "      <th>2954</th>\n",
       "      <td>1.9125</td>\n",
       "      <td>39.0</td>\n",
       "      <td>4.530303</td>\n",
       "      <td>1.128788</td>\n",
       "      <td>366.0</td>\n",
       "      <td>2.772727</td>\n",
       "      <td>35.35</td>\n",
       "      <td>-119.01</td>\n",
       "    </tr>\n",
       "    <tr>\n",
       "      <th>19069</th>\n",
       "      <td>4.2237</td>\n",
       "      <td>25.0</td>\n",
       "      <td>5.995227</td>\n",
       "      <td>1.051313</td>\n",
       "      <td>1994.0</td>\n",
       "      <td>2.379475</td>\n",
       "      <td>38.27</td>\n",
       "      <td>-122.45</td>\n",
       "    </tr>\n",
       "    <tr>\n",
       "      <th>14756</th>\n",
       "      <td>2.5625</td>\n",
       "      <td>23.0</td>\n",
       "      <td>4.589091</td>\n",
       "      <td>1.069091</td>\n",
       "      <td>5176.0</td>\n",
       "      <td>18.821818</td>\n",
       "      <td>32.56</td>\n",
       "      <td>-116.97</td>\n",
       "    </tr>\n",
       "    <tr>\n",
       "      <th>16771</th>\n",
       "      <td>4.8750</td>\n",
       "      <td>30.0</td>\n",
       "      <td>4.206030</td>\n",
       "      <td>1.070352</td>\n",
       "      <td>606.0</td>\n",
       "      <td>3.045226</td>\n",
       "      <td>37.69</td>\n",
       "      <td>-122.47</td>\n",
       "    </tr>\n",
       "    <tr>\n",
       "      <th>17399</th>\n",
       "      <td>1.8633</td>\n",
       "      <td>17.0</td>\n",
       "      <td>4.514851</td>\n",
       "      <td>1.016502</td>\n",
       "      <td>642.0</td>\n",
       "      <td>2.118812</td>\n",
       "      <td>34.94</td>\n",
       "      <td>-120.47</td>\n",
       "    </tr>\n",
       "  </tbody>\n",
       "</table>\n",
       "<p>16512 rows × 8 columns</p>\n",
       "</div>"
      ],
      "text/plain": [
       "       MedInc  HouseAge  AveRooms  AveBedrms  Population   AveOccup  Latitude  \\\n",
       "12940  5.6864      21.0  7.677778   1.008333       902.0   2.505556     38.64   \n",
       "4265   1.7306      28.0  2.837097   1.154839      1463.0   2.359677     34.10   \n",
       "20035  1.6103      44.0  4.822835   1.131890      1330.0   2.618110     36.07   \n",
       "10309  7.4947       4.0  7.311043   1.054346     16122.0   3.106957     33.89   \n",
       "10885  4.2708      15.0  5.146302   1.088424      1510.0   2.427653     33.70   \n",
       "...       ...       ...       ...        ...         ...        ...       ...   \n",
       "2954   1.9125      39.0  4.530303   1.128788       366.0   2.772727     35.35   \n",
       "19069  4.2237      25.0  5.995227   1.051313      1994.0   2.379475     38.27   \n",
       "14756  2.5625      23.0  4.589091   1.069091      5176.0  18.821818     32.56   \n",
       "16771  4.8750      30.0  4.206030   1.070352       606.0   3.045226     37.69   \n",
       "17399  1.8633      17.0  4.514851   1.016502       642.0   2.118812     34.94   \n",
       "\n",
       "       Longitude  \n",
       "12940    -121.25  \n",
       "4265     -118.32  \n",
       "20035    -119.01  \n",
       "10309    -117.74  \n",
       "10885    -117.92  \n",
       "...          ...  \n",
       "2954     -119.01  \n",
       "19069    -122.45  \n",
       "14756    -116.97  \n",
       "16771    -122.47  \n",
       "17399    -120.47  \n",
       "\n",
       "[16512 rows x 8 columns]"
      ]
     },
     "execution_count": 87,
     "metadata": {},
     "output_type": "execute_result"
    }
   ],
   "source": [
    "X_train"
   ]
  },
  {
   "cell_type": "code",
   "execution_count": 113,
   "id": "5f21e7eb-0018-408c-b685-2ba3a3390e85",
   "metadata": {},
   "outputs": [
    {
     "data": {
      "text/html": [
       "<div>\n",
       "<style scoped>\n",
       "    .dataframe tbody tr th:only-of-type {\n",
       "        vertical-align: middle;\n",
       "    }\n",
       "\n",
       "    .dataframe tbody tr th {\n",
       "        vertical-align: top;\n",
       "    }\n",
       "\n",
       "    .dataframe thead th {\n",
       "        text-align: right;\n",
       "    }\n",
       "</style>\n",
       "<table border=\"1\" class=\"dataframe\">\n",
       "  <thead>\n",
       "    <tr style=\"text-align: right;\">\n",
       "      <th></th>\n",
       "      <th>MedInc</th>\n",
       "      <th>HouseAge</th>\n",
       "      <th>AveRooms</th>\n",
       "      <th>AveBedrms</th>\n",
       "      <th>Population</th>\n",
       "      <th>AveOccup</th>\n",
       "      <th>Latitude</th>\n",
       "      <th>Longitude</th>\n",
       "    </tr>\n",
       "  </thead>\n",
       "  <tbody>\n",
       "    <tr>\n",
       "      <th>1057</th>\n",
       "      <td>2.3155</td>\n",
       "      <td>14.0</td>\n",
       "      <td>4.290146</td>\n",
       "      <td>1.131387</td>\n",
       "      <td>1215.0</td>\n",
       "      <td>2.217153</td>\n",
       "      <td>39.76</td>\n",
       "      <td>-121.84</td>\n",
       "    </tr>\n",
       "    <tr>\n",
       "      <th>15156</th>\n",
       "      <td>6.0226</td>\n",
       "      <td>16.0</td>\n",
       "      <td>6.901554</td>\n",
       "      <td>1.015544</td>\n",
       "      <td>640.0</td>\n",
       "      <td>3.316062</td>\n",
       "      <td>32.98</td>\n",
       "      <td>-117.04</td>\n",
       "    </tr>\n",
       "    <tr>\n",
       "      <th>16001</th>\n",
       "      <td>6.0274</td>\n",
       "      <td>36.0</td>\n",
       "      <td>6.207547</td>\n",
       "      <td>1.026954</td>\n",
       "      <td>862.0</td>\n",
       "      <td>2.323450</td>\n",
       "      <td>37.75</td>\n",
       "      <td>-122.45</td>\n",
       "    </tr>\n",
       "    <tr>\n",
       "      <th>7639</th>\n",
       "      <td>4.5260</td>\n",
       "      <td>21.0</td>\n",
       "      <td>6.285714</td>\n",
       "      <td>1.025917</td>\n",
       "      <td>4185.0</td>\n",
       "      <td>2.645386</td>\n",
       "      <td>33.80</td>\n",
       "      <td>-118.29</td>\n",
       "    </tr>\n",
       "    <tr>\n",
       "      <th>13645</th>\n",
       "      <td>1.4511</td>\n",
       "      <td>46.0</td>\n",
       "      <td>5.230769</td>\n",
       "      <td>1.120879</td>\n",
       "      <td>476.0</td>\n",
       "      <td>5.230769</td>\n",
       "      <td>34.06</td>\n",
       "      <td>-117.32</td>\n",
       "    </tr>\n",
       "    <tr>\n",
       "      <th>...</th>\n",
       "      <td>...</td>\n",
       "      <td>...</td>\n",
       "      <td>...</td>\n",
       "      <td>...</td>\n",
       "      <td>...</td>\n",
       "      <td>...</td>\n",
       "      <td>...</td>\n",
       "      <td>...</td>\n",
       "    </tr>\n",
       "    <tr>\n",
       "      <th>16165</th>\n",
       "      <td>3.5833</td>\n",
       "      <td>52.0</td>\n",
       "      <td>5.158192</td>\n",
       "      <td>1.071563</td>\n",
       "      <td>1312.0</td>\n",
       "      <td>2.470810</td>\n",
       "      <td>37.77</td>\n",
       "      <td>-122.50</td>\n",
       "    </tr>\n",
       "    <tr>\n",
       "      <th>3968</th>\n",
       "      <td>5.1463</td>\n",
       "      <td>35.0</td>\n",
       "      <td>6.257028</td>\n",
       "      <td>1.072289</td>\n",
       "      <td>793.0</td>\n",
       "      <td>3.184739</td>\n",
       "      <td>34.20</td>\n",
       "      <td>-118.58</td>\n",
       "    </tr>\n",
       "    <tr>\n",
       "      <th>16750</th>\n",
       "      <td>2.4830</td>\n",
       "      <td>44.0</td>\n",
       "      <td>3.714286</td>\n",
       "      <td>1.040816</td>\n",
       "      <td>339.0</td>\n",
       "      <td>3.459184</td>\n",
       "      <td>37.71</td>\n",
       "      <td>-122.46</td>\n",
       "    </tr>\n",
       "    <tr>\n",
       "      <th>6811</th>\n",
       "      <td>3.4375</td>\n",
       "      <td>34.0</td>\n",
       "      <td>4.409002</td>\n",
       "      <td>1.021526</td>\n",
       "      <td>1262.0</td>\n",
       "      <td>2.469667</td>\n",
       "      <td>34.10</td>\n",
       "      <td>-118.07</td>\n",
       "    </tr>\n",
       "    <tr>\n",
       "      <th>13218</th>\n",
       "      <td>5.7338</td>\n",
       "      <td>5.0</td>\n",
       "      <td>5.804012</td>\n",
       "      <td>0.895062</td>\n",
       "      <td>2335.0</td>\n",
       "      <td>3.603395</td>\n",
       "      <td>34.00</td>\n",
       "      <td>-117.68</td>\n",
       "    </tr>\n",
       "  </tbody>\n",
       "</table>\n",
       "<p>4128 rows × 8 columns</p>\n",
       "</div>"
      ],
      "text/plain": [
       "       MedInc  HouseAge  AveRooms  AveBedrms  Population  AveOccup  Latitude  \\\n",
       "1057   2.3155      14.0  4.290146   1.131387      1215.0  2.217153     39.76   \n",
       "15156  6.0226      16.0  6.901554   1.015544       640.0  3.316062     32.98   \n",
       "16001  6.0274      36.0  6.207547   1.026954       862.0  2.323450     37.75   \n",
       "7639   4.5260      21.0  6.285714   1.025917      4185.0  2.645386     33.80   \n",
       "13645  1.4511      46.0  5.230769   1.120879       476.0  5.230769     34.06   \n",
       "...       ...       ...       ...        ...         ...       ...       ...   \n",
       "16165  3.5833      52.0  5.158192   1.071563      1312.0  2.470810     37.77   \n",
       "3968   5.1463      35.0  6.257028   1.072289       793.0  3.184739     34.20   \n",
       "16750  2.4830      44.0  3.714286   1.040816       339.0  3.459184     37.71   \n",
       "6811   3.4375      34.0  4.409002   1.021526      1262.0  2.469667     34.10   \n",
       "13218  5.7338       5.0  5.804012   0.895062      2335.0  3.603395     34.00   \n",
       "\n",
       "       Longitude  \n",
       "1057     -121.84  \n",
       "15156    -117.04  \n",
       "16001    -122.45  \n",
       "7639     -118.29  \n",
       "13645    -117.32  \n",
       "...          ...  \n",
       "16165    -122.50  \n",
       "3968     -118.58  \n",
       "16750    -122.46  \n",
       "6811     -118.07  \n",
       "13218    -117.68  \n",
       "\n",
       "[4128 rows x 8 columns]"
      ]
     },
     "execution_count": 113,
     "metadata": {},
     "output_type": "execute_result"
    }
   ],
   "source": [
    "X_test"
   ]
  },
  {
   "cell_type": "code",
   "execution_count": 122,
   "id": "1e5dedcd-0cdd-4dee-8834-d837d9c55ee9",
   "metadata": {},
   "outputs": [
    {
     "data": {
      "text/plain": [
       "MedInc        0\n",
       "HouseAge      0\n",
       "AveRooms      0\n",
       "AveBedrms     0\n",
       "Population    0\n",
       "AveOccup      0\n",
       "Latitude      0\n",
       "Longitude     0\n",
       "dtype: int64"
      ]
     },
     "execution_count": 122,
     "metadata": {},
     "output_type": "execute_result"
    }
   ],
   "source": [
    "X_test.isnull().sum()"
   ]
  },
  {
   "cell_type": "code",
   "execution_count": 146,
   "id": "447113d4-1da7-4033-85c9-4d3298950a25",
   "metadata": {
    "scrolled": true
   },
   "outputs": [
    {
     "ename": "ValueError",
     "evalue": "The layer was built with input_shape=(None, 6), but adapt() is being called with data with an incompatible shape, data.shape=(16512, 3)",
     "output_type": "error",
     "traceback": [
      "\u001b[1;31m---------------------------------------------------------------------------\u001b[0m",
      "\u001b[1;31mValueError\u001b[0m                                Traceback (most recent call last)",
      "Cell \u001b[1;32mIn[146], line 33\u001b[0m\n\u001b[0;32m     30\u001b[0m X_new_wide, X_new_deep \u001b[38;5;241m=\u001b[39m X_test_wide[:\u001b[38;5;241m3\u001b[39m], X_test_deep[:\u001b[38;5;241m3\u001b[39m]\n\u001b[0;32m     32\u001b[0m normalization_layer_1\u001b[38;5;241m.\u001b[39madapt(X_train_wide)\n\u001b[1;32m---> 33\u001b[0m normalization_layer_2\u001b[38;5;241m.\u001b[39madapt(X_train_deep)\n\u001b[0;32m     35\u001b[0m history \u001b[38;5;241m=\u001b[39m model\u001b[38;5;241m.\u001b[39mfit((X_train_wide, X_train_deep), y_train, epochs\u001b[38;5;241m=\u001b[39m\u001b[38;5;241m20\u001b[39m, validation_data\u001b[38;5;241m=\u001b[39m((X_valid_wide, X_valid_deep), y_valid))\n\u001b[0;32m     37\u001b[0m mse_test \u001b[38;5;241m=\u001b[39m model\u001b[38;5;241m.\u001b[39mevaluate((X_test_wide, X_test_deep), y_test)\n",
      "File \u001b[1;32m~\\AppData\\Roaming\\Python\\Python311\\site-packages\\keras\\src\\layers\\preprocessing\\normalization.py:232\u001b[0m, in \u001b[0;36mNormalization.adapt\u001b[1;34m(self, data)\u001b[0m\n\u001b[0;32m    230\u001b[0m     \u001b[38;5;28;01mfor\u001b[39;00m d \u001b[38;5;129;01min\u001b[39;00m \u001b[38;5;28mself\u001b[39m\u001b[38;5;241m.\u001b[39m_keep_axis:\n\u001b[0;32m    231\u001b[0m         \u001b[38;5;28;01mif\u001b[39;00m input_shape[d] \u001b[38;5;241m!=\u001b[39m \u001b[38;5;28mself\u001b[39m\u001b[38;5;241m.\u001b[39m_build_input_shape[d]:\n\u001b[1;32m--> 232\u001b[0m             \u001b[38;5;28;01mraise\u001b[39;00m \u001b[38;5;167;01mValueError\u001b[39;00m(\n\u001b[0;32m    233\u001b[0m                 \u001b[38;5;124m\"\u001b[39m\u001b[38;5;124mThe layer was built with \u001b[39m\u001b[38;5;124m\"\u001b[39m\n\u001b[0;32m    234\u001b[0m                 \u001b[38;5;124mf\u001b[39m\u001b[38;5;124m\"\u001b[39m\u001b[38;5;124minput_shape=\u001b[39m\u001b[38;5;132;01m{\u001b[39;00m\u001b[38;5;28mself\u001b[39m\u001b[38;5;241m.\u001b[39m_build_input_shape\u001b[38;5;132;01m}\u001b[39;00m\u001b[38;5;124m, \u001b[39m\u001b[38;5;124m\"\u001b[39m\n\u001b[0;32m    235\u001b[0m                 \u001b[38;5;124m\"\u001b[39m\u001b[38;5;124mbut adapt() is being called with data with \u001b[39m\u001b[38;5;124m\"\u001b[39m\n\u001b[0;32m    236\u001b[0m                 \u001b[38;5;124mf\u001b[39m\u001b[38;5;124m\"\u001b[39m\u001b[38;5;124man incompatible shape, data.shape=\u001b[39m\u001b[38;5;132;01m{\u001b[39;00minput_shape\u001b[38;5;132;01m}\u001b[39;00m\u001b[38;5;124m\"\u001b[39m\n\u001b[0;32m    237\u001b[0m             )\n\u001b[0;32m    239\u001b[0m \u001b[38;5;28;01mif\u001b[39;00m \u001b[38;5;28misinstance\u001b[39m(data, np\u001b[38;5;241m.\u001b[39mndarray):\n\u001b[0;32m    240\u001b[0m     total_mean \u001b[38;5;241m=\u001b[39m np\u001b[38;5;241m.\u001b[39mmean(data, axis\u001b[38;5;241m=\u001b[39m\u001b[38;5;28mself\u001b[39m\u001b[38;5;241m.\u001b[39m_reduce_axis)\n",
      "\u001b[1;31mValueError\u001b[0m: The layer was built with input_shape=(None, 6), but adapt() is being called with data with an incompatible shape, data.shape=(16512, 3)"
     ]
    }
   ],
   "source": [
    "normalization_layer_1 = tf.keras.layers.Normalization()\n",
    "normalization_layer_2 = tf.keras.layers.Normalization()\n",
    "\n",
    "hidden_layer1 = tf.keras.layers.Dense(30, activation='relu')\n",
    "hidden_layer2 = tf.keras.layers.Dense(30, activation='relu')\n",
    "\n",
    "concat_layer = tf.keras.layers.Concatenate()\n",
    "output_layer = tf.keras.layers.Dense(1)\n",
    "\n",
    "input_deep = tf.keras.layers.Input(shape=[6])\n",
    "input_wide = tf.keras.layers.Input(shape=[5])\n",
    "\n",
    "norm_wide = normalization_layer_1(input_wide)\n",
    "norm_deep = normalization_layer_2(input_deep)\n",
    "\n",
    "hidden1 = hidden_layer1(norm_deep)\n",
    "hidden2 = hidden_layer2(hidden1)\n",
    "\n",
    "concat_deep = concat_layer([norm_wide, hidden2])\n",
    "output = output_layer(concat_deep)\n",
    "\n",
    "model = tf.keras.Model(inputs=[input_wide, input_deep], outputs=output)\n",
    "\n",
    "optimizer = tf.keras.optimizers.Adam(learning_rate=1e-3)\n",
    "model.compile(loss='mse', optimizer=optimizer, metrics=['RootMeanSquaredError'])\n",
    "\n",
    "X_train_wide, X_train_deep = X_train[:, :5], X_train[:, 5:]\n",
    "X_valid_wide, X_valid_deep = X_valid[:, :5], X_valid[:, 5:]\n",
    "X_test_wide, X_test_deep = X_test[:, :5], X_test[:, 5:]\n",
    "X_new_wide, X_new_deep = X_test_wide[:3], X_test_deep[:3]\n",
    "\n",
    "normalization_layer_1.adapt(X_train_wide)\n",
    "normalization_layer_2.adapt(X_train_deep)\n",
    "\n",
    "history = model.fit((X_train_wide, X_train_deep), y_train, epochs=20, validation_data=((X_valid_wide, X_valid_deep), y_valid))\n",
    "\n",
    "mse_test = model.evaluate((X_test_wide, X_test_deep), y_test)\n",
    "\n",
    "y_pred = model.predict((X_new_wide, X_new_deep))"
   ]
  },
  {
   "cell_type": "code",
   "execution_count": 129,
   "id": "f95311e1-d23a-4a51-a267-5b318b29e0bb",
   "metadata": {},
   "outputs": [
    {
     "ename": "InvalidIndexError",
     "evalue": "(slice(None, None, None), slice(None, 5, None))",
     "output_type": "error",
     "traceback": [
      "\u001b[1;31m---------------------------------------------------------------------------\u001b[0m",
      "\u001b[1;31mTypeError\u001b[0m                                 Traceback (most recent call last)",
      "File \u001b[1;32mC:\\ProgramData\\anaconda3\\Lib\\site-packages\\pandas\\core\\indexes\\base.py:3791\u001b[0m, in \u001b[0;36mIndex.get_loc\u001b[1;34m(self, key)\u001b[0m\n\u001b[0;32m   3790\u001b[0m \u001b[38;5;28;01mtry\u001b[39;00m:\n\u001b[1;32m-> 3791\u001b[0m     \u001b[38;5;28;01mreturn\u001b[39;00m \u001b[38;5;28mself\u001b[39m\u001b[38;5;241m.\u001b[39m_engine\u001b[38;5;241m.\u001b[39mget_loc(casted_key)\n\u001b[0;32m   3792\u001b[0m \u001b[38;5;28;01mexcept\u001b[39;00m \u001b[38;5;167;01mKeyError\u001b[39;00m \u001b[38;5;28;01mas\u001b[39;00m err:\n",
      "File \u001b[1;32mindex.pyx:152\u001b[0m, in \u001b[0;36mpandas._libs.index.IndexEngine.get_loc\u001b[1;34m()\u001b[0m\n",
      "File \u001b[1;32mindex.pyx:158\u001b[0m, in \u001b[0;36mpandas._libs.index.IndexEngine.get_loc\u001b[1;34m()\u001b[0m\n",
      "\u001b[1;31mTypeError\u001b[0m: '(slice(None, None, None), slice(None, 5, None))' is an invalid key",
      "\nDuring handling of the above exception, another exception occurred:\n",
      "\u001b[1;31mInvalidIndexError\u001b[0m                         Traceback (most recent call last)",
      "Cell \u001b[1;32mIn[129], line 4\u001b[0m\n\u001b[0;32m      1\u001b[0m optimizer\u001b[38;5;241m=\u001b[39mtf\u001b[38;5;241m.\u001b[39mkeras\u001b[38;5;241m.\u001b[39moptimizers\u001b[38;5;241m.\u001b[39mAdam(learning_rate\u001b[38;5;241m=\u001b[39m\u001b[38;5;241m1e-3\u001b[39m)\n\u001b[0;32m      2\u001b[0m model\u001b[38;5;241m.\u001b[39mcompile(loss\u001b[38;5;241m=\u001b[39m\u001b[38;5;124m'\u001b[39m\u001b[38;5;124mmse\u001b[39m\u001b[38;5;124m'\u001b[39m,optimizer\u001b[38;5;241m=\u001b[39moptimizer,metrics\u001b[38;5;241m=\u001b[39m[\u001b[38;5;124m'\u001b[39m\u001b[38;5;124mRootMeanSquaredError\u001b[39m\u001b[38;5;124m'\u001b[39m])\n\u001b[1;32m----> 4\u001b[0m X_train_wide, X_train_deep \u001b[38;5;241m=\u001b[39m X_train[:,:\u001b[38;5;241m5\u001b[39m], X_train[:,\u001b[38;5;241m2\u001b[39m:]\n\u001b[0;32m      5\u001b[0m X_valid_wide, X_valid_deep \u001b[38;5;241m=\u001b[39m X_valid[:,:\u001b[38;5;241m5\u001b[39m], X_valid[:,\u001b[38;5;241m2\u001b[39m:]\n\u001b[0;32m      6\u001b[0m X_test_wide, X_test_deep\u001b[38;5;241m=\u001b[39m X_test[:,:\u001b[38;5;241m5\u001b[39m],X_test[:,\u001b[38;5;241m2\u001b[39m:]\n",
      "File \u001b[1;32mC:\\ProgramData\\anaconda3\\Lib\\site-packages\\pandas\\core\\frame.py:3893\u001b[0m, in \u001b[0;36mDataFrame.__getitem__\u001b[1;34m(self, key)\u001b[0m\n\u001b[0;32m   3891\u001b[0m \u001b[38;5;28;01mif\u001b[39;00m \u001b[38;5;28mself\u001b[39m\u001b[38;5;241m.\u001b[39mcolumns\u001b[38;5;241m.\u001b[39mnlevels \u001b[38;5;241m>\u001b[39m \u001b[38;5;241m1\u001b[39m:\n\u001b[0;32m   3892\u001b[0m     \u001b[38;5;28;01mreturn\u001b[39;00m \u001b[38;5;28mself\u001b[39m\u001b[38;5;241m.\u001b[39m_getitem_multilevel(key)\n\u001b[1;32m-> 3893\u001b[0m indexer \u001b[38;5;241m=\u001b[39m \u001b[38;5;28mself\u001b[39m\u001b[38;5;241m.\u001b[39mcolumns\u001b[38;5;241m.\u001b[39mget_loc(key)\n\u001b[0;32m   3894\u001b[0m \u001b[38;5;28;01mif\u001b[39;00m is_integer(indexer):\n\u001b[0;32m   3895\u001b[0m     indexer \u001b[38;5;241m=\u001b[39m [indexer]\n",
      "File \u001b[1;32mC:\\ProgramData\\anaconda3\\Lib\\site-packages\\pandas\\core\\indexes\\base.py:3803\u001b[0m, in \u001b[0;36mIndex.get_loc\u001b[1;34m(self, key)\u001b[0m\n\u001b[0;32m   3798\u001b[0m     \u001b[38;5;28;01mraise\u001b[39;00m \u001b[38;5;167;01mKeyError\u001b[39;00m(key) \u001b[38;5;28;01mfrom\u001b[39;00m \u001b[38;5;21;01merr\u001b[39;00m\n\u001b[0;32m   3799\u001b[0m \u001b[38;5;28;01mexcept\u001b[39;00m \u001b[38;5;167;01mTypeError\u001b[39;00m:\n\u001b[0;32m   3800\u001b[0m     \u001b[38;5;66;03m# If we have a listlike key, _check_indexing_error will raise\u001b[39;00m\n\u001b[0;32m   3801\u001b[0m     \u001b[38;5;66;03m#  InvalidIndexError. Otherwise we fall through and re-raise\u001b[39;00m\n\u001b[0;32m   3802\u001b[0m     \u001b[38;5;66;03m#  the TypeError.\u001b[39;00m\n\u001b[1;32m-> 3803\u001b[0m     \u001b[38;5;28mself\u001b[39m\u001b[38;5;241m.\u001b[39m_check_indexing_error(key)\n\u001b[0;32m   3804\u001b[0m     \u001b[38;5;28;01mraise\u001b[39;00m\n",
      "File \u001b[1;32mC:\\ProgramData\\anaconda3\\Lib\\site-packages\\pandas\\core\\indexes\\base.py:5975\u001b[0m, in \u001b[0;36mIndex._check_indexing_error\u001b[1;34m(self, key)\u001b[0m\n\u001b[0;32m   5971\u001b[0m \u001b[38;5;28;01mdef\u001b[39;00m \u001b[38;5;21m_check_indexing_error\u001b[39m(\u001b[38;5;28mself\u001b[39m, key):\n\u001b[0;32m   5972\u001b[0m     \u001b[38;5;28;01mif\u001b[39;00m \u001b[38;5;129;01mnot\u001b[39;00m is_scalar(key):\n\u001b[0;32m   5973\u001b[0m         \u001b[38;5;66;03m# if key is not a scalar, directly raise an error (the code below\u001b[39;00m\n\u001b[0;32m   5974\u001b[0m         \u001b[38;5;66;03m# would convert to numpy arrays and raise later any way) - GH29926\u001b[39;00m\n\u001b[1;32m-> 5975\u001b[0m         \u001b[38;5;28;01mraise\u001b[39;00m InvalidIndexError(key)\n",
      "\u001b[1;31mInvalidIndexError\u001b[0m: (slice(None, None, None), slice(None, 5, None))"
     ]
    }
   ],
   "source": []
  },
  {
   "cell_type": "code",
   "execution_count": null,
   "id": "7bd6391c-0e7f-4271-a69d-e7c72644629c",
   "metadata": {},
   "outputs": [],
   "source": []
  }
 ],
 "metadata": {
  "kernelspec": {
   "display_name": "Python 3 (ipykernel)",
   "language": "python",
   "name": "python3"
  },
  "language_info": {
   "codemirror_mode": {
    "name": "ipython",
    "version": 3
   },
   "file_extension": ".py",
   "mimetype": "text/x-python",
   "name": "python",
   "nbconvert_exporter": "python",
   "pygments_lexer": "ipython3",
   "version": "3.11.7"
  }
 },
 "nbformat": 4,
 "nbformat_minor": 5
}
